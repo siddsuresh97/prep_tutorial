{
  "nbformat": 4,
  "nbformat_minor": 0,
  "metadata": {
    "colab": {
      "name": "tutorial.ipynb",
      "provenance": [],
      "collapsed_sections": [],
      "include_colab_link": true
    },
    "kernelspec": {
      "name": "python3",
      "display_name": "Python 3"
    },
    "language_info": {
      "name": "python"
    }
  },
  "cells": [
    {
      "cell_type": "markdown",
      "metadata": {
        "id": "view-in-github",
        "colab_type": "text"
      },
      "source": [
        "<a href=\"https://colab.research.google.com/github/siddsuresh97/prep_tutorial/blob/main/tutorial.ipynb\" target=\"_parent\"><img src=\"https://colab.research.google.com/assets/colab-badge.svg\" alt=\"Open In Colab\"/></a>"
      ]
    },
    {
      "cell_type": "code",
      "execution_count": null,
      "metadata": {
        "id": "YtRbaxMWSbF4"
      },
      "outputs": [],
      "source": [
        "Size\n",
        "# Download data\n",
        "# Generate activation of avg_pool and pool1\n",
        "# Perform experiment"
      ]
    },
    {
      "cell_type": "code",
      "source": [
        "#@title imports\n",
        "\n"
      ],
      "metadata": {
        "id": "qNnGKH1LXwYi"
      },
      "execution_count": 3,
      "outputs": []
    },
    {
      "cell_type": "code",
      "source": [
        "#@title helper functions"
      ],
      "metadata": {
        "id": "lU__reqvWSfg"
      },
      "execution_count": 2,
      "outputs": []
    },
    {
      "cell_type": "code",
      "source": [
        "#@title link to drive "
      ],
      "metadata": {
        "id": "xtIfpUqzYy9R"
      },
      "execution_count": null,
      "outputs": []
    }
  ]
}